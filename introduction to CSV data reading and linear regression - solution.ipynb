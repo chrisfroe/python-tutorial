{
 "cells": [
  {
   "cell_type": "markdown",
   "metadata": {},
   "source": [
    "# Michaelis-Menten-Kinetics computation\n",
    "This working example consists of spectrometric data for Michael-Menten kinentics, i.e. time series of absorption at a given wavelength. Measurements are conducted at defined concentrations and saved to single CSV-like files (\"comma separated values\"). The goal is to automatically extract the maximum reaction velocity of every measurement by a linear fit and to plot those as a function of the concentration. You should learn \n",
    "\n",
    "1) how to import this data. It's real word data, so loading it can be a little unpleasant. \n",
    "\n",
    "2) to plot the data with matplotlib.\n",
    "\n",
    "3) to do a linear fit and save the results.\n",
    "\n",
    "Please go through the notebook, check what is done and complete the fields denoted by `#FIXME`.\n",
    "\n",
    "## 0. Importing libraries\n",
    "As a first step, we import software packages that we need for our work. This will mainly be numpy for numerical computations, matplotlib for plotting and csv for data input. Please note the short notation of the modules given by `as`."
   ]
  },
  {
   "cell_type": "code",
   "execution_count": 1,
   "metadata": {},
   "outputs": [],
   "source": [
    "import numpy as np\n",
    "import matplotlib.pyplot as plt\n",
    "%matplotlib inline\n",
    "import csv"
   ]
  },
  {
   "cell_type": "markdown",
   "metadata": {},
   "source": [
    "## 1. data I/O\n",
    "#### Let's check the content and how it can be loaded!\n",
    "Files are stored in the data subfolder. Let's check an example file before extracting actual values. The below lines open the file and read the content with the `csv` python package.\n",
    "\n",
    "##### Note:\n",
    "If you are completely new to programming, the following code might be a bit too complicated. In that case, take a look and skip to the next Cheating-point. "
   ]
  },
  {
   "cell_type": "code",
   "execution_count": 2,
   "metadata": {
    "scrolled": true
   },
   "outputs": [
    {
     "name": "stdout",
     "output_type": "stream",
     "text": [
      "line #0: ['TEST-EINR']\n",
      "line #1: ['BioMate', '3S', 'v4.000I', '2K6N070003']\n",
      "line #2: []\n",
      "line #3: ['Kinetik', '', '', '', '', '', '', '', '', '', '', '', '', '', '', '', '', '', '', '', '', '0:44', '13Aug13']\n",
      "line #4: ['Testbez.', '', '', '', '', '', '', '', '', '', '', '', '', '', '', '', '', '', '', '', '', '', '', '', '', '', '------']\n",
      "line #5: ['Messmodus', '', '', '', '', '', '', '', '', '', '', '', '', '', '', '', '', '', '', '', '', 'Absorption']\n",
      "line #6: ['Wellenlnge', '', '', '', '', '', '', '', '', '', '', '', '', '', '', '', '', '', '', '', '', '', '436.0nm']\n",
      "line #7: ['Ref.-Wellenlg.korrektur', '', '', '', '', '', '', '', '', '', '', '', '', '', 'Aus']\n",
      "line #8: ['Delay-Zeit', '(min:sec)', '', '', '', '', '', '', '', '', '', '', '', '', '', '', '', '0:00']\n",
      "line #9: ['Intervallzeit', '(min:sek)', '', '', '', '', '', '', '', '', '', '', '', '', '0:01']\n",
      "line #10: ['Gesamtlaufzeit(hr:min:sec)', '', '', '', '', '', '', '0:30:00']\n",
      "line #11: ['Zeige', 'Ergebnis', '', '', '', '', '', '', '', '', '', '', '', '', '', '', '', '', '', '', '', '', '', '', 'Ein']\n",
      "line #12: ['Faktor', '', '', '', '', '', '', '', '', '', '', '', '', '', '', '', '', '', '', '', '', '', '', '', '', '', '', '', '', '1.000']\n",
      "line #13: ['Einheitn', '', '', '', '', '', '', '', '', '', '', '', '', '', '', '', '', '', '', '', '', '', '', '', '', '', '', '', '', '', '', 'C']\n",
      "line #14: ['Linearittswert', '', '', '', '', '', '', '', '', '', '', '', '', '', '', '', '', '', '', '', '0.005']\n",
      "line #15: ['Probenposition', '', '', '', '', '', '', '', '', '', '', '', 'Einfachhalter-']\n",
      "line #16: ['ID#', '(0=AUS)', '', '', '', '', '', '', '', '', '', '', '', '', '', '', '', '', '', '', '', '', '', '', '', '', '', '', '', '1']\n",
      "line #17: ['Untere/Obere', 'Grenze', '', '', '', '', '', '', '', '', '', '', '-9999/9999']\n",
      "line #18: ['Auto', 'Speichern', '', '', '', '', '', '', '', '', '', '', '', '', '', '', '', '', '', '', '', '', '', '', 'Aus']\n",
      "line #19: []\n",
      "line #20: []\n",
      "line #21: ['HH:MM:SS', '', '', 'Abs', '', '', '', 'Delta', '', '', 'Lin']\n",
      "line #22: ['--------', '', '------', '', '------', '', '---']\n",
      "line #23: ['', '0:00:00', '', '', '0.205', '', '------', '', '---']\n",
      "line #24: ['', '0:00:01', '', '', '0.226', '', '', '0.021', '', '---']\n",
      "line #25: ['', '0:00:02', '', '', '0.247', '', '', '0.021', '', '', 'L', '']\n",
      "line #26: ['', '0:00:03', '', '', '0.268', '', '', '0.021', '', '', 'L', '']\n",
      "line #27: ['', '0:00:04', '', '', '0.289', '', '', '0.021', '', '', 'L', '']\n",
      "line #28: ['', '0:00:05', '', '', '0.310', '', '', '0.021', '', '', 'L', '']\n",
      "line #29: ['', '0:00:06', '', '', '0.330', '', '', '0.020', '', '', 'L', '']\n",
      "line #30: ['', '0:00:07', '', '', '0.351', '', '', '0.021', '', '', 'L', '']\n",
      "line #31: ['', '0:00:08', '', '', '0.371', '', '', '0.020', '', '', 'L', '']\n",
      "line #32: ['', '0:00:09', '', '', '0.390', '', '', '0.019', '', '', 'L', '']\n",
      "line #33: ['', '0:00:10', '', '', '0.410', '', '', '0.020', '', '', 'L', '']\n",
      "line #34: ['', '0:00:11', '', '', '0.429', '', '', '0.019', '', '', 'L', '']\n",
      "line #35: ['', '0:00:12', '', '', '0.448', '', '', '0.019', '', '', 'L', '']\n",
      "line #36: ['', '0:00:13', '', '', '0.466', '', '', '0.018', '', '', 'L', '']\n",
      "line #37: ['', '0:00:14', '', '', '0.484', '', '', '0.018', '', '', 'L', '']\n",
      "line #38: ['', '0:00:15', '', '', '0.501', '', '', '0.017', '', '', 'L', '']\n",
      "line #39: ['', '0:00:16', '', '', '0.518', '', '', '0.017', '', '', 'L', '']\n",
      "line #40: ['', '0:00:17', '', '', '0.534', '', '', '0.016', '', '', 'L', '']\n",
      "line #41: ['', '0:00:18', '', '', '0.549', '', '', '0.015', '', '', 'L', '']\n",
      "line #42: ['', '0:00:19', '', '', '0.564', '', '', '0.015', '', '', 'L', '']\n",
      "line #43: ['', '0:00:20', '', '', '0.577', '', '', '0.013', '', '', 'L', '']\n",
      "line #44: ['', '0:00:21', '', '', '0.589', '', '', '0.012', '', '', 'L', '']\n",
      "line #45: ['', '0:00:22', '', '', '0.601', '', '', '0.012', '', '', 'L', '']\n",
      "line #46: ['', '0:00:23', '', '', '0.611', '', '', '0.010', '', '', 'L', '']\n",
      "line #47: ['', '0:00:24', '', '', '0.621', '', '', '0.010', '', '', 'L', '']\n",
      "line #48: ['', '0:00:25', '', '', '0.629', '', '', '0.008', '', '', 'L', '']\n",
      "line #49: ['', '0:00:26', '', '', '0.635', '', '', '0.006', '', '', 'L', '']\n",
      "line #50: ['', '0:00:27', '', '', '0.641', '', '', '0.006', '', '', 'L', '']\n",
      "line #51: ['', '0:00:28', '', '', '0.646', '', '', '0.005', '', '', 'L', '']\n",
      "line #52: ['', '0:00:29', '', '', '0.649', '', '', '0.003', '', '', 'L', '']\n",
      "line #53: ['', '0:00:30', '', '', '0.652', '', '', '0.003', '', '', 'L', '']\n",
      "line #54: ['', '0:00:31', '', '', '0.655', '', '', '0.003', '', '', 'L', '']\n",
      "line #55: ['', '0:00:32', '', '', '0.656', '', '', '0.001', '', '', 'L', '']\n",
      "line #56: ['', '0:00:33', '', '', '0.657', '', '', '0.001', '', '', 'L', '']\n",
      "line #57: ['', '0:00:34', '', '', '0.658', '', '', '0.001', '', '', 'L', '']\n",
      "line #58: ['', '0:00:35', '', '', '0.659', '', '', '0.001', '', '', 'L', '']\n",
      "line #59: ['', '0:00:36', '', '', '0.659', '', '', '0.000', '', '', 'L', '']\n",
      "line #60: ['', '0:00:37', '', '', '0.659', '', '', '0.000', '', '', 'L', '']\n",
      "line #61: ['', '0:00:38', '', '', '0.660', '', '', '0.001', '', '', 'L', '']\n",
      "line #62: ['', '0:00:39', '', '', '0.660', '', '', '0.000', '', '', 'L', '']\n",
      "line #63: ['', '0:00:41', '', '', '0.660', '', '', '0.000', '', '', 'L', '']\n",
      "line #64: ['', '0:00:42', '', '', '0.660', '', '', '0.000', '', '', 'L', '']\n",
      "line #65: ['', '0:00:43', '', '', '0.660', '', '', '0.000', '', '', 'L', '']\n",
      "line #66: ['', '0:00:44', '', '', '0.659', '', '-0.001', '', '', 'L', '']\n",
      "line #67: ['', '0:00:45', '', '', '0.659', '', '', '0.000', '', '', 'L', '']\n",
      "line #68: ['', '0:00:46', '', '', '0.659', '', '', '0.000', '', '', 'L', '']\n",
      "line #69: ['', '0:00:47', '', '', '0.659', '', '', '0.000', '', '', 'L', '']\n",
      "line #70: ['', '0:00:48', '', '', '0.659', '', '', '0.000', '', '', 'L', '']\n",
      "line #71: ['', '0:00:49', '', '', '0.659', '', '', '0.000', '', '', 'L', '']\n",
      "line #72: ['', '0:00:50', '', '', '0.659', '', '', '0.000', '', '', 'L', '']\n",
      "line #73: ['', '0:00:51', '', '', '0.659', '', '', '0.000', '', '', 'L', '']\n",
      "line #74: ['', '0:00:52', '', '', '0.659', '', '', '0.000', '', '', 'L', '']\n",
      "line #75: ['', '0:00:53', '', '', '0.659', '', '', '0.000', '', '', 'L', '']\n",
      "line #76: ['', '0:00:54', '', '', '0.659', '', '', '0.000', '', '', 'L', '']\n",
      "line #77: ['', '0:00:55', '', '', '0.658', '', '-0.001', '', '', 'L', '']\n",
      "line #78: ['', '0:00:56', '', '', '0.658', '', '', '0.000', '', '', 'L', '']\n",
      "line #79: ['', '0:00:57', '', '', '0.658', '', '', '0.000', '', '', 'L', '']\n",
      "line #80: ['', '0:00:58', '', '', '0.658', '', '', '0.000', '', '', 'L', '']\n",
      "line #81: ['', '0:00:59', '', '', '0.658', '', '', '0.000', '', '', 'L', '']\n",
      "line #82: ['', '0:01:00', '', '', '0.658', '', '', '0.000', '', '', 'L', '']\n",
      "line #83: []\n",
      "line #84: ['', '', '', '', '', '', '', 'ID#', '', 'Abs/Min', '', '', '', 'Ergebnis', '', '', 'C']\n",
      "line #85: ['', '', '', '', '', '', '', '', '', '1', '', '', '0.453', '', '', '', '', '', '0.453', '', '', '', '', '']\n"
     ]
    }
   ],
   "source": [
    "file_name = 'data/30.txt'  # input file name (potentially write full path)\n",
    "with open(file_name, 'r') as file:  # open the file\n",
    "    reader = csv.reader(file, delimiter=' ')  # read the opened file with a csv reader.\n",
    "    for n, line in enumerate(reader):  # iterate over all rows\n",
    "        print('line #{}:'.format(n), line)"
   ]
  },
  {
   "cell_type": "markdown",
   "metadata": {},
   "source": [
    "We note that \n",
    "- the first and last lines don't contain data\n",
    "- the lines, encoded in the variable `line`, are actually lists.\n",
    "- the lines contain some empty fields\n",
    "- the elements are written in parenthesis, which means they are not stored as numbers but as strings i.e. text format\n",
    "- time format is not in seconds\n",
    "\n",
    "#### Let's create usable data from the content\n",
    "\n",
    "To only get our data, we thus have to\n",
    "- exclude the first lines by defining a range of lines we want to read\n",
    "- save only the interesting elements of each line by putting column indices to the list, i.e. `line[0]` for the first element\n",
    "- convert the string (text format) number into a real number a.k.a. float by `float(string_number)`\n",
    "- convert the time format in seconds by defining the below function"
   ]
  },
  {
   "cell_type": "code",
   "execution_count": 13,
   "metadata": {},
   "outputs": [
    {
     "name": "stdout",
     "output_type": "stream",
     "text": [
      "This function converts 0:09:54 to 594.0 seconds.\n"
     ]
    }
   ],
   "source": [
    "def convert_time(hours_minutes_seconds_timestring):\n",
    "    n_hours = hours_minutes_seconds_timestring[0]\n",
    "    n_minutes = hours_minutes_seconds_timestring[2:4]\n",
    "    n_seconds = hours_minutes_seconds_timestring[5:]\n",
    "    return 60 * 60 * float(n_hours) + 60. * float(n_minutes) + float(n_seconds)\n",
    "print('This function converts {} to {} seconds.'.format('0:09:54', convert_time('0:09:54')))"
   ]
  },
  {
   "cell_type": "code",
   "execution_count": 4,
   "metadata": {},
   "outputs": [],
   "source": [
    "first_line, last_line = 23, 82  # FIXME\n",
    "time = []  # create empty lists for the columns\n",
    "values = []\n",
    "with open(file_name, 'r') as file:  # open the file\n",
    "    reader = csv.reader(file, delimiter=' ')  # read the opened file with a csv reader.\n",
    "\n",
    "    for n, line in enumerate(reader):  # iterate over all rows\n",
    "        if n >= first_line and n <= last_line:\n",
    "            time.append(convert_time(line[1]))  # append converted time to list\n",
    "            values.append(float(line[4]))  # append number representation of measurement value to list\n",
    "# FIXME: time index"
   ]
  },
  {
   "cell_type": "markdown",
   "metadata": {},
   "source": [
    "###### Cheating point (for beginners only!)\n",
    "Load the pre-processed data directly by uncommenting and executing the following line. "
   ]
  },
  {
   "cell_type": "code",
   "execution_count": 2,
   "metadata": {},
   "outputs": [],
   "source": [
    "#time, values = np.loadtxt('data/task1.txt')"
   ]
  },
  {
   "cell_type": "markdown",
   "metadata": {},
   "source": [
    "## 2. Simple plotting"
   ]
  },
  {
   "cell_type": "code",
   "execution_count": 3,
   "metadata": {},
   "outputs": [
    {
     "data": {
      "image/png": "[encoded data removed]",
      "text/plain": [
       "<Figure size 432x288 with 1 Axes>"
      ]
     },
     "metadata": {},
     "output_type": "display_data"
    }
   ],
   "source": [
    "plt.plot(time, values, '.')  # '.' is the plotting marker, i.e. dots  # FIXME\n",
    "plt.xlabel('time')\n",
    "plt.ylabel('values');"
   ]
  },
  {
   "cell_type": "markdown",
   "metadata": {},
   "source": [
    "## 3. Linear regression\n",
    "We can use already existing functions to do the linear regression (actually, most things you might need have already been implemented by someone... google is your friend). We use scipy, a scientific library, to achieve that."
   ]
  },
  {
   "cell_type": "code",
   "execution_count": 4,
   "metadata": {},
   "outputs": [],
   "source": [
    "from scipy import stats"
   ]
  },
  {
   "cell_type": "markdown",
   "metadata": {},
   "source": [
    "Have a look into the manual for more details about `linregress`: https://docs.scipy.org/doc/scipy-0.14.0/reference/generated/scipy.stats.linregress.html\n",
    "##### IMPORTANT:\n",
    "Since the data is not linear and we only need to extract the starting velocity $V_0$, we have to restrict the fit to the first data points in the sample. We do this a colon in the list notation, e.g. `some_list[start:stop]`."
   ]
  },
  {
   "cell_type": "code",
   "execution_count": 5,
   "metadata": {},
   "outputs": [],
   "source": [
    "slope, intercept, r_value, p_value, std_err = stats.linregress(time[:15], values[:15])"
   ]
  },
  {
   "cell_type": "markdown",
   "metadata": {},
   "source": [
    "#### print output of linregress"
   ]
  },
  {
   "cell_type": "code",
   "execution_count": 6,
   "metadata": {},
   "outputs": [
    {
     "name": "stdout",
     "output_type": "stream",
     "text": [
      "slope:  0.02\n",
      "intercept:  0.2081\n",
      "correlation coeff:  0.9997\n",
      "standard deviation:  0.0001\n"
     ]
    }
   ],
   "source": [
    "print('slope: ', np.round(slope, 4))\n",
    "print('intercept: ', np.round(intercept, 4))\n",
    "print('correlation coeff: ', np.round(r_value, 4))\n",
    "print('standard deviation: ', np.round(std_err, 4))"
   ]
  },
  {
   "cell_type": "markdown",
   "metadata": {},
   "source": [
    "#### plot the result\n",
    "To plot a function, we have to create arrays of data points from that function first. Just providing the functional form is not enough. Below, you find a simple definition of a function as an example."
   ]
  },
  {
   "cell_type": "code",
   "execution_count": 7,
   "metadata": {},
   "outputs": [],
   "source": [
    "def linear_function(x, m, a):\n",
    "    return m * x + a"
   ]
  },
  {
   "cell_type": "code",
   "execution_count": 8,
   "metadata": {},
   "outputs": [
    {
     "data": {
      "image/png": "[encoded data removed]",
      "text/plain": [
       "<Figure size 432x288 with 1 Axes>"
      ]
     },
     "metadata": {},
     "output_type": "display_data"
    }
   ],
   "source": [
    "x = np.linspace(0, 30, 100)  # x axis data points\n",
    "y = linear_function(x, slope, intercept)\n",
    "\n",
    "plt.plot(x, y)  # plot fit function\n",
    "\n",
    "# copy pasted first plot:\n",
    "plt.plot(time, values, '.')\n",
    "plt.xlabel('time')\n",
    "plt.ylabel('values');"
   ]
  },
  {
   "cell_type": "markdown",
   "metadata": {},
   "source": [
    "## 4. Remarks:\n",
    "One non-obvious point at this point is that for the sake of simplicity, we have not spoken about data types. In this example, we used python lists and numpy arrays interchangeably. However, there are several very important differences that you should know about. \n",
    "\n",
    "##### Python list: `some_list = [1, 2, 3, 4]`\n",
    "- good: can be defined without knowing how large it will be, i.e. values are simply appended by `some_list.append(some_value)`\n",
    "- bad: one cannot do math operations on them, i.e. `some_list * another_list` does not work\n",
    "\n",
    "##### numpy arrays: `some_nparray = np.array([1, 2, 3, 4])`\n",
    "- good: can do math operations on them, i.e. elementwise multiplication `some_nparray * some_nparray` works.\n",
    "- good: higher dimensions, e.g. matrices, are possible and easy to handle\n",
    "- bad: appending values is not part of the idea\n",
    "- functions from numpy or scipy naturally return numpy arrays by default.\n",
    "\n",
    "##### recommendation:\n",
    "- use numpy arrays whenever possible. They can be initialized i.g. by `np.zeros(length)`.\n",
    "- if you don't know how, use a list and convert it into a numpy array by `np.array(some_list)`.\n",
    "- google is your friend\n",
    "\n",
    "## 5. DIY\n",
    "You might have noticed that this was only one file in a series of enzyme kinetics measurements. Load the other files and process them in a for loop in order to extract the starting velocities from each file. The list of volume concentrations (ordered as the input files) is given by (arbitrary units)\n",
    "```python\n",
    "vol_s = np.array([1,1,1,2,2,2,3,3,3,4,4,4,5,5,5,7,7,7,9,9,9,11,11,11,13,13,13,15,15,15,17,17,17,19,19,19, \\\n",
    "      21,21,21,23,23,23,25,25,25,30,30,30])\n",
    "```\n",
    "After you have obtained the velocities, first check if the fits are okay. Than plot them as a function of the volume concentrations.\n",
    "#### Tips\n",
    "- You might encounter the problem that lists have different lengths. Python can handle this for you by trying out your commands.  In this case, you want to know if you cause an `IndexError` when trying to load an empty line at the end of the file. In this case, you want to stop loading the file, i.e.\n",
    "```python\n",
    "try:\n",
    "    time.append(convert_time(line[1]))\n",
    "    values.append(float(line[4]))\n",
    "except IndexError:\n",
    "    break  #  break iteration over lines here\n",
    "```\n",
    "- with the given data set, it might be enough to use the first 5 data points for the linear fit of the maximum velocity...\n",
    "- again, if this is completely non-understandable to you, use the next Cheating point for loading the data."
   ]
  },
  {
   "cell_type": "code",
   "execution_count": 15,
   "metadata": {},
   "outputs": [],
   "source": [
    "first_line = 23  # known from example above\n",
    "\n",
    "max_v = []\n",
    "intercepts = []\n",
    "time_all = []\n",
    "values_all = []\n",
    "\n",
    "for file_n in range(4, 52):\n",
    "    file_name = 'data/{}.txt'.format(file_n)  # input file name (potentially write full path)\n",
    "    time = []  # create empty lists for the columns\n",
    "    values = []\n",
    "    with open(file_name, 'r') as file:  # open the file\n",
    "        reader = csv.reader(file, delimiter=' ')  # read the opened file with a csv reader.\n",
    "\n",
    "        for n, line in enumerate(reader):  # iterate over all rows\n",
    "            if n >= first_line:\n",
    "                try:\n",
    "                    time.append(convert_time(line[1]))  # append converted time to list\n",
    "                    values.append(float(line[4]))  # append number representation of measurement value to list\n",
    "                except IndexError:\n",
    "                    break\n",
    "    time_all.append(time)\n",
    "    values_all.append(values)\n",
    "    #plt.plot(time, values, '.')\n",
    "    slope, intercept, r_value, p_value, std_err = stats.linregress(time[:5], values[:5])\n",
    "    max_v.append(slope)\n",
    "    intercepts.append(intercept)"
   ]
  },
  {
   "cell_type": "markdown",
   "metadata": {},
   "source": [
    "##### Cheating-point\n",
    "You can load the pre-processed data for task 2 by uncommenting and executing the following cell."
   ]
  },
  {
   "cell_type": "code",
   "execution_count": 11,
   "metadata": {},
   "outputs": [],
   "source": [
    "#for file_n in range(4, 52):\n",
    "#    time, values = np.loadtxt('data/task2_{}.txt'.format(file_n))"
   ]
  },
  {
   "cell_type": "code",
   "execution_count": 16,
   "metadata": {},
   "outputs": [
    {
     "data": {
      "text/plain": [
       "[<matplotlib.lines.Line2D at 0x7fe9f79c75f8>]"
      ]
     },
     "execution_count": 16,
     "metadata": {},
     "output_type": "execute_result"
    },
    {
     "data": {
      "image/png": "[encoded data removed]",
      "text/plain": [
       "<Figure size 432x288 with 1 Axes>"
      ]
     },
     "metadata": {},
     "output_type": "display_data"
    }
   ],
   "source": [
    "dataset_n = 47\n",
    "plt.plot(time_all[dataset_n], values_all[dataset_n], '.')\n",
    "x = np.linspace(0, 30, 100)  # x axis data points\n",
    "y = linear_function(x, max_v[dataset_n], intercepts[dataset_n])\n",
    "plt.plot(x, y)  # plot fit function"
   ]
  },
  {
   "cell_type": "code",
   "execution_count": 17,
   "metadata": {},
   "outputs": [
    {
     "data": {
      "text/plain": [
       "[<matplotlib.lines.Line2D at 0x7fe9f78d75f8>]"
      ]
     },
     "execution_count": 17,
     "metadata": {},
     "output_type": "execute_result"
    },
    {
     "data": {
      "image/png": "[encoded data removed]",
      "text/plain": [
       "<Figure size 432x288 with 1 Axes>"
      ]
     },
     "metadata": {},
     "output_type": "display_data"
    }
   ],
   "source": [
    "vol_s = np.array([1,1,1,2,2,2,3,3,3,4,4,4,5,5,5,7,7,7,9,9,9,11,11,11,13,13,13,15,15,15,17,17,17,19,19,19, \\\n",
    "      21,21,21,23,23,23,25,25,25,30,30,30])\n",
    "plt.plot(vol_s, max_v, 'x')"
   ]
  },
  {
   "cell_type": "code",
   "execution_count": null,
   "metadata": {},
   "outputs": [],
   "source": []
  }
 ],
 "metadata": {
  "kernelspec": {
   "display_name": "test",
   "language": "python",
   "name": "test"
  },
  "language_info": {
   "codemirror_mode": {
    "name": "ipython",
    "version": 3
   },
   "file_extension": ".py",
   "mimetype": "text/x-python",
   "name": "python",
   "nbconvert_exporter": "python",
   "pygments_lexer": "ipython3",
   "version": "3.6.5"
  }
 },
 "nbformat": 4,
 "nbformat_minor": 2
}
