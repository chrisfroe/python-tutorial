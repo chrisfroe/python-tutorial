{
 "cells": [
  {
   "cell_type": "markdown",
   "metadata": {},
   "source": [
    "## 0. Importing libraries\n",
    "As a first step, we import software packages that we need for our work. This will mainly be numpy for numerical computations, matplotlib for plotting and csv for data input. Please note the short notation of the modules that can be freely chosen (we could also import numpy as supercoolpackaged)."
   ]
  },
  {
   "cell_type": "code",
   "execution_count": 2,
   "metadata": {},
   "outputs": [],
   "source": [
    "import numpy as np\n",
    "import matplotlib.pyplot as plt\n",
    "%matplotlib inline\n",
    "import csv"
   ]
  },
  {
   "cell_type": "markdown",
   "metadata": {},
   "source": [
    "## 1. data I/O\n",
    "#### Let's check the content and how it can be loaded!"
   ]
  },
  {
   "cell_type": "code",
   "execution_count": 12,
   "metadata": {},
   "outputs": [
    {
     "name": "stdout",
     "output_type": "stream",
     "text": [
      "line:  ['Time', 'value', 'err', 'some-shitty-column']\n",
      "line:  ['1', '.1', '4', 'asdf']\n",
      "line:  ['2', '.29', '3', 'f']\n",
      "line:  ['3', '.31', '5', 'd']\n",
      "line:  ['4', '.38', '2', 'someshittycol']\n",
      "line:  ['5', '.55', '4', 'xxx']\n",
      "line:  ['6', '.6', '5', 'aaaaa']\n",
      "line:  ['7', '.75', '4', 'sdfw']\n",
      "line:  ['8', '.79', '52', 'ef']\n",
      "line:  ['9', '.91', '5', 'bva']\n",
      "line:  ['10', '1.01', '6', 'df']\n",
      "line:  ['11', '1.09', '4', 'a1']\n",
      "line:  ['12', '1.22', '2', '1']\n"
     ]
    }
   ],
   "source": [
    "file_name = 'test.csv'  # input file name (potentially write full path)\n",
    "with open(file_name, 'r') as file:  # open the file\n",
    "    reader = csv.reader(file)  # read the opened file with a csv reader.\n",
    "    for line in reader:  # iterate over all rows\n",
    "        print('line: ', line)"
   ]
  },
  {
   "cell_type": "markdown",
   "metadata": {},
   "source": [
    "We note that \n",
    "- the first line does not contain data but column names\n",
    "- the lines, encoded in the variable `line`, are actually lists.\n",
    "- the elements are written in parenthesis, which means they are not stored as numbers but as strings i.e. text format\n",
    "\n",
    "#### Let's create usable data from the content\n",
    "\n",
    "To only get our data, we thus have to\n",
    "- exclude the first line by skipping them using `next`\n",
    "- save only the first two elements of each line by putting column indices to the list, i.e. `line[0]` for the first element\n",
    "- convert the string (text format) number into a real number a.k.a. float by `float(string_number)`"
   ]
  },
  {
   "cell_type": "code",
   "execution_count": 19,
   "metadata": {},
   "outputs": [
    {
     "name": "stdout",
     "output_type": "stream",
     "text": [
      "line:  1 .1\n",
      "line:  2 .29\n",
      "line:  3 .31\n",
      "line:  4 .38\n",
      "line:  5 .55\n",
      "line:  6 .6\n",
      "line:  7 .75\n",
      "line:  8 .79\n",
      "line:  9 .91\n",
      "line:  10 1.01\n",
      "line:  11 1.09\n",
      "line:  12 1.22\n"
     ]
    }
   ],
   "source": [
    "file_name = 'test.csv'  # input file name (potentially write full path)\n",
    "time = []  # create empty lists for the columns\n",
    "values = []\n",
    "with open(file_name, 'r') as file:  # open the file\n",
    "    reader = csv.reader(file)  # read the opened file with a csv reader.\n",
    "    next(reader) # skip one line\n",
    "    for line in reader:  # iterate over all rows\n",
    "        print('line: ', line[0], line[1])\n",
    "        time.append(float(line[0]))  # append number value to the list\n",
    "        values.append(float(line[1]))"
   ]
  },
  {
   "cell_type": "markdown",
   "metadata": {},
   "source": [
    "## 2. Simple plotting"
   ]
  },
  {
   "cell_type": "code",
   "execution_count": 24,
   "metadata": {},
   "outputs": [
    {
     "data": {
      "image/png": "[encoded data removed]",
      "text/plain": [
       "<Figure size 432x288 with 1 Axes>"
      ]
     },
     "metadata": {},
     "output_type": "display_data"
    }
   ],
   "source": [
    "plt.plot(time, values, 'o')  # 'o' is the plotting marker, i.e. dots\n",
    "plt.xlabel('time')\n",
    "plt.ylabel('values');"
   ]
  },
  {
   "cell_type": "markdown",
   "metadata": {},
   "source": [
    "## 3. Linear regression\n",
    "We can use already existing functions to do the linear regression (actually, most things you might need have already been implemented by someone... google is your friend). We use scipy, a scientific library, to achieve that."
   ]
  },
  {
   "cell_type": "code",
   "execution_count": 26,
   "metadata": {},
   "outputs": [],
   "source": [
    "from scipy import stats"
   ]
  },
  {
   "cell_type": "markdown",
   "metadata": {},
   "source": [
    "Have a look into the manual for more details about `linregress`: https://docs.scipy.org/doc/scipy-0.14.0/reference/generated/scipy.stats.linregress.html"
   ]
  },
  {
   "cell_type": "code",
   "execution_count": 27,
   "metadata": {},
   "outputs": [],
   "source": [
    "slope, intercept, r_value, p_value, std_err = stats.linregress(time, values)"
   ]
  },
  {
   "cell_type": "markdown",
   "metadata": {},
   "source": [
    "#### print output of linregress"
   ]
  },
  {
   "cell_type": "code",
   "execution_count": 39,
   "metadata": {},
   "outputs": [
    {
     "name": "stdout",
     "output_type": "stream",
     "text": [
      "slope:  0.098\n",
      "intercept:  0.032\n",
      "correlation coeff:  0.996\n",
      "standard deviation:  0.003\n"
     ]
    }
   ],
   "source": [
    "print('slope: ', np.round(slope, 3))\n",
    "print('intercept: ', np.round(intercept, 3))\n",
    "print('correlation coeff: ', np.round(r_value, 3))\n",
    "print('standard deviation: ', np.round(std_err, 3))"
   ]
  },
  {
   "cell_type": "markdown",
   "metadata": {},
   "source": [
    "#### plot the result\n",
    "To plot a function, we have to create arrays of data points from that function first. Just providing the functional form is not enough. Below, you find a simple definition of a function as an example."
   ]
  },
  {
   "cell_type": "code",
   "execution_count": 40,
   "metadata": {},
   "outputs": [],
   "source": [
    "def linear_function(x, m, a):\n",
    "    return m * x + a"
   ]
  },
  {
   "cell_type": "code",
   "execution_count": 44,
   "metadata": {},
   "outputs": [
    {
     "data": {
      "image/png": "[encoded data removed]",
      "text/plain": [
       "<Figure size 432x288 with 1 Axes>"
      ]
     },
     "metadata": {},
     "output_type": "display_data"
    }
   ],
   "source": [
    "x = np.linspace(1, 12, 100)  # x axis data points\n",
    "y = linear_function(x, slope, intercept)\n",
    "\n",
    "plt.plot(x, y)  # plot fit function\n",
    "\n",
    "# copy pasted first plot:\n",
    "plt.plot(time, values, 'o')\n",
    "plt.xlabel('time')\n",
    "plt.ylabel('values');"
   ]
  },
  {
   "cell_type": "markdown",
   "metadata": {},
   "source": [
    "## 4. Remarks:\n",
    "One non-obvious point at this point is that for the sake of simplicity, we have not spoken about data types. In this example, we used python lists and numpy arrays interchangeably. However, there are several very important differences that you should know about. \n",
    "\n",
    "##### Python list: `some_list = [1, 2, 3, 4]`\n",
    "- good: can be defined without knowing how large it will be, i.e. values are simply appended by `some_list.append(some_value)`\n",
    "- bad: one cannot do math operations on them, i.e. `some_list * another_list` does not work\n",
    "\n",
    "##### numpy arrays: `some_nparray = np.array([1, 2, 3, 4])`\n",
    "- good: can do math operations on them, i.e. elementwise multiplication `some_nparray * some_nparray` works.\n",
    "- bad: appending values is not part of the idea\n",
    "- functions from numpy or scipy naturally return numpy arrays by default.\n",
    "\n",
    "##### recommendation:\n",
    "- use numpy arrays whenever possible. They can be initialized by `np.zeros(length)`.\n",
    "- if you don't know how, use a list and convert it into a numpy array by `np.array(some_list)`.\n",
    "- google is your friend"
   ]
  },
  {
   "cell_type": "code",
   "execution_count": null,
   "metadata": {},
   "outputs": [],
   "source": []
  }
 ],
 "metadata": {
  "kernelspec": {
   "display_name": "Python 3",
   "language": "python",
   "name": "root"
  },
  "language_info": {
   "codemirror_mode": {
    "name": "ipython",
    "version": 3
   },
   "file_extension": ".py",
   "mimetype": "text/x-python",
   "name": "python",
   "nbconvert_exporter": "python",
   "pygments_lexer": "ipython3",
   "version": "3.6.5"
  }
 },
 "nbformat": 4,
 "nbformat_minor": 2
}
